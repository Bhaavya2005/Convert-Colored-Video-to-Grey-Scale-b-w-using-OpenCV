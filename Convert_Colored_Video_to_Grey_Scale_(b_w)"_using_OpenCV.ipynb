{
  "nbformat": 4,
  "nbformat_minor": 0,
  "metadata": {
    "colab": {
      "provenance": [],
      "authorship_tag": "ABX9TyOacOLXByOsEJyhFy2SFoLP",
      "include_colab_link": true
    },
    "kernelspec": {
      "name": "python3",
      "display_name": "Python 3"
    },
    "language_info": {
      "name": "python"
    }
  },
  "cells": [
    {
      "cell_type": "markdown",
      "metadata": {
        "id": "view-in-github",
        "colab_type": "text"
      },
      "source": [
        "<a href=\"https://colab.research.google.com/github/Bhaavya2005/Convert-Colored-Video-to-Grey-Scale-b-w-using-OpenCV/blob/main/Convert_Colored_Video_to_Grey_Scale_(b_w)%22_using_OpenCV.ipynb\" target=\"_parent\"><img src=\"https://colab.research.google.com/assets/colab-badge.svg\" alt=\"Open In Colab\"/></a>"
      ]
    },
    {
      "cell_type": "code",
      "execution_count": null,
      "metadata": {
        "id": "TO1tB6oPCu9f"
      },
      "outputs": [],
      "source": [
        "# Mini Project 17\n",
        "\n",
        "import cv2\n",
        "def grayscale(input, output):\n",
        "    # Opening the file to read\n",
        "    video_capture = cv2.VideoCapture(input)\n",
        "\n",
        "    #Getting the Frame width and height of the Video\n",
        "    Fwidth = int(video_capture.get(cv2.CAP_PROP_FRAME_WIDTH))\n",
        "    Fheight = int(video_capture.get(cv2.CAP_PROP_FRAME_HEIGHT))\n",
        "\n",
        "    # Creating a VideoWriter object in order to save the greyscale video\n",
        "    fourcc = cv2.VideoWriter_fourcc(*'XVID')\n",
        "    out = cv2.VideoWriter(output, fourcc, 20.0, (Fwidth, Fheight), isColor=False)\n",
        "\n",
        "    while True:\n",
        "        ret, frame = video_capture.read()\n",
        "        if not ret:\n",
        "            break\n",
        "        # Frame to Greyscale Conversion\n",
        "        gray_frame = cv2.cvtColor(frame, cv2.COLOR_BGR2GRAY)\n",
        "\n",
        "        # Writing the grayscale frame to the output video\n",
        "        out.write(gray_frame)\n",
        "\n",
        "    # Releasing the videio objects\n",
        "    video_capture.release()\n",
        "    out.release()\n",
        "\n",
        "    print(\"The coloured video was successfully converted to Greyscale!\")\n",
        "\n",
        "input_video = 'D:\\Coding\\Python programmming\\summer_school\\color_vid.mp4'\n",
        "output_video = 'BW_output.mp4'\n",
        "grayscale(input_video, output_video)"
      ]
    }
  ]
}